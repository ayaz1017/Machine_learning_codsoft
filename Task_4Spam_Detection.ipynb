{
  "nbformat": 4,
  "nbformat_minor": 0,
  "metadata": {
    "colab": {
      "private_outputs": true,
      "provenance": []
    },
    "kernelspec": {
      "name": "python3",
      "display_name": "Python 3"
    },
    "language_info": {
      "name": "python"
    }
  },
  "cells": [
    {
      "cell_type": "code",
      "execution_count": null,
      "metadata": {
        "id": "U1ReOw3gT7Xv"
      },
      "outputs": [],
      "source": [
        "import pandas as pd\n",
        "import numpy as np\n",
        "from sklearn.model_selection import train_test_split\n",
        "from sklearn.preprocessing import LabelEncoder\n",
        "from sklearn.feature_extraction.text import TfidfVectorizer"
      ]
    },
    {
      "cell_type": "code",
      "source": [
        "from google.colab import drive\n",
        "drive.mount('/content/drive')"
      ],
      "metadata": {
        "id": "ZohxdeT0VLUD"
      },
      "execution_count": null,
      "outputs": []
    },
    {
      "cell_type": "code",
      "source": [
        "file_path = '/content/drive/My Drive/Machine Learning Internship/spam.csv'"
      ],
      "metadata": {
        "id": "F0PMEhhyV2Lg"
      },
      "execution_count": null,
      "outputs": []
    },
    {
      "cell_type": "code",
      "source": [
        "df=pd.read_csv(file_path,encoding='latin-1')"
      ],
      "metadata": {
        "id": "a-z6ffsNV7LY"
      },
      "execution_count": null,
      "outputs": []
    },
    {
      "cell_type": "code",
      "source": [
        "df.head()"
      ],
      "metadata": {
        "id": "b09bPDkfWBzf"
      },
      "execution_count": null,
      "outputs": []
    },
    {
      "cell_type": "code",
      "source": [
        "df.shape"
      ],
      "metadata": {
        "id": "fc98PqjHWEmH"
      },
      "execution_count": null,
      "outputs": []
    },
    {
      "cell_type": "code",
      "source": [
        "df.info()"
      ],
      "metadata": {
        "id": "lQDv_m6cWGoI"
      },
      "execution_count": null,
      "outputs": []
    },
    {
      "cell_type": "code",
      "source": [
        "df.describe()"
      ],
      "metadata": {
        "id": "BgfOI3qPWLEX"
      },
      "execution_count": null,
      "outputs": []
    },
    {
      "cell_type": "code",
      "source": [
        "df.isnull().sum()"
      ],
      "metadata": {
        "id": "s4J-zg85WNbw"
      },
      "execution_count": null,
      "outputs": []
    },
    {
      "cell_type": "code",
      "source": [
        "df1= df[['v1', 'v2']].rename(columns={'v1': 'Label', 'v2': 'Message'})"
      ],
      "metadata": {
        "id": "h-av_NF0WQr4"
      },
      "execution_count": null,
      "outputs": []
    },
    {
      "cell_type": "code",
      "source": [
        "le=LabelEncoder()\n",
        "df1['Label']=le.fit_transform(df1['Label'])"
      ],
      "metadata": {
        "id": "dWo8BOrYYR2W"
      },
      "execution_count": null,
      "outputs": []
    },
    {
      "cell_type": "code",
      "source": [
        "X = df1['Message']\n",
        "Y = df1['Label']"
      ],
      "metadata": {
        "id": "hnCl3O13Y7MV"
      },
      "execution_count": null,
      "outputs": []
    },
    {
      "cell_type": "code",
      "source": [
        "X_train,X_test,Y_train,Y_test=train_test_split(X,Y,test_size=0.2,random_state=2)"
      ],
      "metadata": {
        "id": "VP6xhO5cYfV9"
      },
      "execution_count": null,
      "outputs": []
    },
    {
      "cell_type": "markdown",
      "source": [
        "imp:here convert the text to TF_IDF vector"
      ],
      "metadata": {
        "id": "2s_4N_yiZRyc"
      }
    },
    {
      "cell_type": "code",
      "source": [
        "vectorizer=TfidfVectorizer(max_features=5000)\n",
        "X_train_vectors=vectorizer.fit_transform(X_train)\n",
        "X_test_vectors=vectorizer.transform(X_test)"
      ],
      "metadata": {
        "id": "o2az7_hPZONl"
      },
      "execution_count": null,
      "outputs": []
    },
    {
      "cell_type": "markdown",
      "source": [
        "train the model"
      ],
      "metadata": {
        "id": "8V_GXWrVZqP6"
      }
    },
    {
      "cell_type": "code",
      "source": [
        "def train_and_evaluate_model(model, X_train, Y_train, X_test, Y_test):\n",
        "  model.fit(X_train, Y_train)\n",
        "  Y_pred = model.predict(X_test)\n",
        "  accuracy = accuracy_score(Y_test, Y_pred)\n",
        "  report = classification_report(Y_test, Y_pred)\n",
        "  return accuracy, report"
      ],
      "metadata": {
        "id": "xX2XxawyZp6l"
      },
      "execution_count": null,
      "outputs": []
    },
    {
      "cell_type": "code",
      "source": [
        "from sklearn.metrics import accuracy_score, classification_report, confusion_matrix\n",
        "from sklearn.naive_bayes import MultinomialNB\n",
        "nb=MultinomialNB()\n",
        "train_and_evaluate_model(nb,X_train_vectors,Y_train,X_test_vectors,Y_test)"
      ],
      "metadata": {
        "id": "2T-80w0TanEl"
      },
      "execution_count": null,
      "outputs": []
    },
    {
      "cell_type": "code",
      "source": [
        "from sklearn.linear_model import LogisticRegression\n",
        "lr=LogisticRegression()\n",
        "train_and_evaluate_model(lr,X_train_vectors,Y_train,X_test_vectors,Y_test)"
      ],
      "metadata": {
        "id": "RzmPG1vtbE2D"
      },
      "execution_count": null,
      "outputs": []
    },
    {
      "cell_type": "code",
      "source": [
        "from sklearn.svm import SVC\n",
        "svm=SVC(kernel='linear')\n",
        "train_and_evaluate_model(svm,X_train_vectors,Y_train,X_test_vectors,Y_test)"
      ],
      "metadata": {
        "id": "LexKIUF7bu4r"
      },
      "execution_count": null,
      "outputs": []
    },
    {
      "cell_type": "code",
      "source": [
        "def predict_spam(model, new_messages):\n",
        "  new_messages_vectors = vectorizer.transform(new_messages)\n",
        "  predictions = model.predict(new_messages_vectors)\n",
        "  return 'spam' if predictions==1 else 'not spam'"
      ],
      "metadata": {
        "id": "BXRF_WZPcfNM"
      },
      "execution_count": null,
      "outputs": []
    },
    {
      "cell_type": "code",
      "source": [
        "input_messages = input(\"Enter the SMS for detection:\")\n",
        "predicted_label = predict_spam(nb, [input_messages])\n",
        "print(f\" final prediction of the sms:{predicted_label}\")"
      ],
      "metadata": {
        "id": "NQ8KrHBWdaRJ"
      },
      "execution_count": null,
      "outputs": []
    }
  ]
}