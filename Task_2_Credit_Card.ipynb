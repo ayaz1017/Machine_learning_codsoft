{
  "nbformat": 4,
  "nbformat_minor": 0,
  "metadata": {
    "colab": {
      "private_outputs": true,
      "provenance": []
    },
    "kernelspec": {
      "name": "python3",
      "display_name": "Python 3"
    },
    "language_info": {
      "name": "python"
    }
  },
  "cells": [
    {
      "cell_type": "code",
      "execution_count": null,
      "metadata": {
        "id": "0mhPx1ySEBY_"
      },
      "outputs": [],
      "source": [
        "import pandas as pd\n",
        "import numpy as np\n",
        "import matplotlib.pyplot as plt\n",
        "from sklearn.model_selection import train_test_split\n",
        "from sklearn.preprocessing import LabelEncoder, StandardScaler\n",
        "from sklearn.ensemble import RandomForestClassifier\n",
        "from sklearn.linear_model import LogisticRegression\n",
        "from sklearn.tree import DecisionTreeClassifier\n",
        "from sklearn.metrics import classification_report, roc_auc_score, ConfusionMatrixDisplay\n"
      ]
    },
    {
      "cell_type": "code",
      "source": [
        "from google.colab import drive\n",
        "drive.mount('/content/drive')\n"
      ],
      "metadata": {
        "id": "TrkxsAskqr88"
      },
      "execution_count": null,
      "outputs": []
    },
    {
      "cell_type": "code",
      "source": [
        "train_path = \"/content/drive/My Drive/Machine/fraudTrain.csv\"\n",
        "test_path = \"/content/drive/My Drive/Machine/fraudTest.csv\""
      ],
      "metadata": {
        "id": "h43NTrsGrD1r"
      },
      "execution_count": null,
      "outputs": []
    },
    {
      "cell_type": "code",
      "source": [
        "data1= pd.read_csv(train_path)"
      ],
      "metadata": {
        "id": "z794c5S-rc-1"
      },
      "execution_count": null,
      "outputs": []
    },
    {
      "cell_type": "code",
      "source": [
        "data=pd.read_csv(test_path)"
      ],
      "metadata": {
        "id": "YcbIIflrr5IO"
      },
      "execution_count": null,
      "outputs": []
    },
    {
      "cell_type": "markdown",
      "source": [],
      "metadata": {
        "id": "0SL-utNkrAq6"
      }
    },
    {
      "cell_type": "code",
      "source": [
        "data1"
      ],
      "metadata": {
        "id": "wACo8YTMFm5E"
      },
      "execution_count": null,
      "outputs": []
    },
    {
      "cell_type": "code",
      "source": [
        "data1.shape"
      ],
      "metadata": {
        "id": "8gxl31G1FrZ6"
      },
      "execution_count": null,
      "outputs": []
    },
    {
      "cell_type": "code",
      "source": [
        "data1.columns"
      ],
      "metadata": {
        "id": "vnOtcdl7Fu4D"
      },
      "execution_count": null,
      "outputs": []
    },
    {
      "cell_type": "code",
      "source": [
        "data1.info()"
      ],
      "metadata": {
        "id": "GR7XTlJkFyNj"
      },
      "execution_count": null,
      "outputs": []
    },
    {
      "cell_type": "markdown",
      "source": [],
      "metadata": {
        "id": "uhJgjVuEGL0j"
      }
    },
    {
      "cell_type": "code",
      "source": [
        "data1.describe()"
      ],
      "metadata": {
        "id": "gthivknYF6gy"
      },
      "execution_count": null,
      "outputs": []
    },
    {
      "cell_type": "code",
      "source": [
        "data1.isnull().sum()"
      ],
      "metadata": {
        "id": "0X3l92SXGM3K"
      },
      "execution_count": null,
      "outputs": []
    },
    {
      "cell_type": "code",
      "source": [
        "columns_to_drop = ['trans_date_trans_time', 'cc_num', 'merchant', 'first', 'last', 'street', 'city', 'state', 'zip', 'lat', 'long', 'job', 'dob', 'unix_time', 'merch_lat', 'merch_long']\n",
        "data1 = data1.drop(columns=columns_to_drop, axis=1)\n"
      ],
      "metadata": {
        "id": "FLGPXQVJGRJa"
      },
      "execution_count": null,
      "outputs": []
    },
    {
      "cell_type": "code",
      "source": [
        "encoder = LabelEncoder()\n",
        "data['category'] = encoder.fit_transform(data['category'])"
      ],
      "metadata": {
        "id": "qfYA-WnA1Z36"
      },
      "execution_count": null,
      "outputs": []
    },
    {
      "cell_type": "code",
      "source": [
        "fraud_by_gender = data1.groupby('gender')['is_fraud'].agg(['sum', 'count'])\n",
        "fraud_by_gender['fraud_rate'] = fraud_by_gender['sum'] / fraud_by_gender['count']\n",
        "\n",
        "print(fraud_by_gender)\n",
        "\n",
        "plt.figure(figsize=(4,3))\n",
        "plt.bar(fraud_by_gender.index, fraud_by_gender['fraud_rate'])\n",
        "plt.xlabel('Gender')\n",
        "plt.ylabel('Fraud Rate')\n",
        "plt.title('Fraud Rate by Gender')\n",
        "plt.show()\n"
      ],
      "metadata": {
        "id": "tivAVr1StgFB"
      },
      "execution_count": null,
      "outputs": []
    },
    {
      "cell_type": "code",
      "source": [
        "X=data1.drop('is_fraud',axis=1)\n",
        "y=data1['is_fraud']"
      ],
      "metadata": {
        "id": "klJAFGPou_cD"
      },
      "execution_count": null,
      "outputs": []
    },
    {
      "cell_type": "code",
      "source": [
        "data1 = data1.dropna(subset=['is_fraud'])\n"
      ],
      "metadata": {
        "id": "O3krKczE1pA7"
      },
      "execution_count": null,
      "outputs": []
    },
    {
      "cell_type": "code",
      "source": [
        "non_numeric_cols = X.select_dtypes(include=['object']).columns\n",
        "print(\"Non-numeric columns:\", non_numeric_cols)\n",
        "for col in non_numeric_cols:\n",
        "    X[col] = encoder.fit_transform(X[col])\n",
        "numerical_features = X.select_dtypes(include=np.number).columns\n",
        "scaler = StandardScaler()\n",
        "X_scaled = scaler.fit_transform(X[numerical_features])\n",
        "X_scaled = pd.DataFrame(X_scaled, columns=numerical_features, index=X.index)\n",
        "X = pd.concat([X_scaled, X.drop(columns=numerical_features)], axis=1)"
      ],
      "metadata": {
        "id": "sbk7nnmX1uvK"
      },
      "execution_count": null,
      "outputs": []
    },
    {
      "cell_type": "code",
      "source": [
        "X_train, X_test, y_train, y_test = train_test_split(X, y, test_size=0.2, random_state=42, stratify=y)\n"
      ],
      "metadata": {
        "id": "EmX-1AGJzUxD"
      },
      "execution_count": null,
      "outputs": []
    },
    {
      "cell_type": "code",
      "source": [
        "logistic_model = LogisticRegression(random_state=42, max_iter=1000)\n",
        "logistic_model.fit(X_train, y_train)\n",
        "y_pred_logistic = logistic_model.predict(X_test)\n",
        "y_prob_logistic = logistic_model.predict_proba(X_test)[:, 1]\n",
        "\n",
        "print(\"\\nLogistic Regression:\")\n",
        "print(\"Classification Report:\\n\", classification_report(y_test, y_pred_logistic))\n",
        "print(\"ROC AUC Score:\", roc_auc_score(y_test, y_prob_logistic))\n",
        "print(\"Confusion Matrix:\")\n",
        "ConfusionMatrixDisplay.from_predictions(y_test, y_pred_logistic, cmap='Blues')\n",
        "plt.show()\n"
      ],
      "metadata": {
        "id": "s2G7a-tKw3vU"
      },
      "execution_count": null,
      "outputs": []
    },
    {
      "cell_type": "code",
      "source": [
        "decision_tree_model = DecisionTreeClassifier(random_state=42)\n",
        "decision_tree_model.fit(X_train, y_train)\n",
        "y_pred_tree = decision_tree_model.predict(X_test)\n",
        "y_prob_tree = decision_tree_model.predict_proba(X_test)[:, 1]\n",
        "\n",
        "print(\"\\nDecision Tree Classifier:\")\n",
        "print(\"Classification Report:\\n\", classification_report(y_test, y_pred_tree))\n",
        "print(\"ROC AUC Score:\", roc_auc_score(y_test, y_prob_tree))\n",
        "print(\"Confusion Matrix:\")\n",
        "ConfusionMatrixDisplay.from_predictions(y_test, y_pred_tree, cmap='Blues')\n",
        "plt.show()\n"
      ],
      "metadata": {
        "id": "8pSJBpjq2IVz"
      },
      "execution_count": null,
      "outputs": []
    },
    {
      "cell_type": "code",
      "source": [
        "model_1 = RandomForestClassifier(n_estimators=100, random_state=42)\n",
        "model_1.fit(X_train, y_train)\n",
        "y_pred = model_1.predict(X_test)\n",
        "y_prob = model_1.predict_proba(X_test)[:, 1]\n",
        "\n",
        "print(\"\\nRandom Forest Classifier:\")\n",
        "print(\"Classification Report:\\n\", classification_report(y_test, y_pred))\n",
        "print(\"ROC AUC Score:\", roc_auc_score(y_test, y_prob))\n",
        "print(\"Confusion Matrix:\")\n",
        "ConfusionMatrixDisplay.from_predictions(y_test, y_pred, cmap='Blues')\n",
        "plt.show()"
      ],
      "metadata": {
        "id": "A1zPNN-F2QRj"
      },
      "execution_count": null,
      "outputs": []
    }
  ]
}